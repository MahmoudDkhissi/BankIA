{
 "cells": [
  {
   "cell_type": "code",
   "execution_count": 4,
   "metadata": {},
   "outputs": [],
   "source": [
    "import numpy as np \n",
    "import pandas as pd\n"
   ]
  },
  {
   "cell_type": "code",
   "execution_count": 73,
   "metadata": {},
   "outputs": [
    {
     "data": {
      "text/plain": [
       "account        object\n",
       "step           object\n",
       "sum_amount     object\n",
       "mean_amount    object\n",
       "min_amount     object\n",
       "max_amount     object\n",
       "num_debits     object\n",
       "num_credits    object\n",
       "target         object\n",
       "dtype: object"
      ]
     },
     "execution_count": 73,
     "metadata": {},
     "output_type": "execute_result"
    }
   ],
   "source": [
    "df1 = pd.read_csv('data/ml_debit.csv')\n",
    "df2 = pd.read_csv('data/ml_credit.csv', nrows=7000)"
   ]
  },
  {
   "cell_type": "code",
   "execution_count": 103,
   "metadata": {},
   "outputs": [
    {
     "data": {
      "text/plain": [
       "(13229, 9)"
      ]
     },
     "execution_count": 103,
     "metadata": {},
     "output_type": "execute_result"
    }
   ],
   "source": [
    "df = pd.concat([df1, df2], ignore_index=True)\n",
    "df.shape"
   ]
  },
  {
   "cell_type": "code",
   "execution_count": 104,
   "metadata": {},
   "outputs": [],
   "source": [
    "df = df.sample(frac=1).reset_index(drop=True)\n",
    "df[\"target\"] = df[\"target\"].map({\"debit\":1,\"credit\":0})"
   ]
  },
  {
   "cell_type": "code",
   "execution_count": 105,
   "metadata": {},
   "outputs": [
    {
     "data": {
      "text/plain": [
       "account         object\n",
       "step            object\n",
       "sum_amount     float64\n",
       "mean_amount    float64\n",
       "min_amount     float64\n",
       "max_amount     float64\n",
       "num_debits     float64\n",
       "num_credits    float64\n",
       "target         float64\n",
       "dtype: object"
      ]
     },
     "execution_count": 105,
     "metadata": {},
     "output_type": "execute_result"
    }
   ],
   "source": [
    "columns_to_convert = ['sum_amount', 'mean_amount', 'min_amount', 'max_amount', 'num_debits', 'num_credits']\n",
    "df[columns_to_convert] = df[columns_to_convert].apply(pd.to_numeric, errors='coerce')\n",
    "df.dtypes"
   ]
  },
  {
   "cell_type": "code",
   "execution_count": 106,
   "metadata": {},
   "outputs": [
    {
     "data": {
      "text/plain": [
       "account        0\n",
       "step           0\n",
       "sum_amount     0\n",
       "mean_amount    0\n",
       "min_amount     0\n",
       "max_amount     0\n",
       "num_debits     0\n",
       "num_credits    0\n",
       "target         0\n",
       "dtype: int64"
      ]
     },
     "execution_count": 106,
     "metadata": {},
     "output_type": "execute_result"
    }
   ],
   "source": [
    "df = df.dropna()\n",
    "df.isnull().sum()\n"
   ]
  },
  {
   "cell_type": "code",
   "execution_count": 110,
   "metadata": {},
   "outputs": [
    {
     "data": {
      "text/html": [
       "<div>\n",
       "<style scoped>\n",
       "    .dataframe tbody tr th:only-of-type {\n",
       "        vertical-align: middle;\n",
       "    }\n",
       "\n",
       "    .dataframe tbody tr th {\n",
       "        vertical-align: top;\n",
       "    }\n",
       "\n",
       "    .dataframe thead th {\n",
       "        text-align: right;\n",
       "    }\n",
       "</style>\n",
       "<table border=\"1\" class=\"dataframe\">\n",
       "  <thead>\n",
       "    <tr style=\"text-align: right;\">\n",
       "      <th></th>\n",
       "      <th>sum_amount</th>\n",
       "      <th>mean_amount</th>\n",
       "      <th>min_amount</th>\n",
       "      <th>max_amount</th>\n",
       "      <th>num_debits</th>\n",
       "      <th>num_credits</th>\n",
       "      <th>target</th>\n",
       "    </tr>\n",
       "  </thead>\n",
       "  <tbody>\n",
       "    <tr>\n",
       "      <th>count</th>\n",
       "      <td>1.188000e+04</td>\n",
       "      <td>1.188000e+04</td>\n",
       "      <td>1.188000e+04</td>\n",
       "      <td>1.188000e+04</td>\n",
       "      <td>11880.000000</td>\n",
       "      <td>11880.000000</td>\n",
       "      <td>11880.000000</td>\n",
       "    </tr>\n",
       "    <tr>\n",
       "      <th>mean</th>\n",
       "      <td>1.096729e+08</td>\n",
       "      <td>2.249041e+07</td>\n",
       "      <td>3.839886e+06</td>\n",
       "      <td>6.690132e+07</td>\n",
       "      <td>3.650253</td>\n",
       "      <td>0.919697</td>\n",
       "      <td>0.428704</td>\n",
       "    </tr>\n",
       "    <tr>\n",
       "      <th>std</th>\n",
       "      <td>2.165601e+09</td>\n",
       "      <td>4.346825e+08</td>\n",
       "      <td>1.293754e+08</td>\n",
       "      <td>1.335662e+09</td>\n",
       "      <td>1.372152</td>\n",
       "      <td>1.046418</td>\n",
       "      <td>0.494912</td>\n",
       "    </tr>\n",
       "    <tr>\n",
       "      <th>min</th>\n",
       "      <td>0.000000e+00</td>\n",
       "      <td>0.000000e+00</td>\n",
       "      <td>0.000000e+00</td>\n",
       "      <td>0.000000e+00</td>\n",
       "      <td>0.000000</td>\n",
       "      <td>0.000000</td>\n",
       "      <td>0.000000</td>\n",
       "    </tr>\n",
       "    <tr>\n",
       "      <th>25%</th>\n",
       "      <td>1.639600e+05</td>\n",
       "      <td>3.801500e+04</td>\n",
       "      <td>5.000000e+03</td>\n",
       "      <td>7.799725e+04</td>\n",
       "      <td>3.000000</td>\n",
       "      <td>0.000000</td>\n",
       "      <td>0.000000</td>\n",
       "    </tr>\n",
       "    <tr>\n",
       "      <th>50%</th>\n",
       "      <td>5.000000e+05</td>\n",
       "      <td>1.120224e+05</td>\n",
       "      <td>1.640600e+04</td>\n",
       "      <td>2.000000e+05</td>\n",
       "      <td>4.000000</td>\n",
       "      <td>1.000000</td>\n",
       "      <td>0.000000</td>\n",
       "    </tr>\n",
       "    <tr>\n",
       "      <th>75%</th>\n",
       "      <td>1.708778e+06</td>\n",
       "      <td>3.927890e+05</td>\n",
       "      <td>1.000000e+05</td>\n",
       "      <td>1.000000e+06</td>\n",
       "      <td>5.000000</td>\n",
       "      <td>1.000000</td>\n",
       "      <td>1.000000</td>\n",
       "    </tr>\n",
       "    <tr>\n",
       "      <th>max</th>\n",
       "      <td>1.760013e+11</td>\n",
       "      <td>3.520027e+10</td>\n",
       "      <td>1.327980e+10</td>\n",
       "      <td>8.800000e+10</td>\n",
       "      <td>5.000000</td>\n",
       "      <td>5.000000</td>\n",
       "      <td>1.000000</td>\n",
       "    </tr>\n",
       "  </tbody>\n",
       "</table>\n",
       "</div>"
      ],
      "text/plain": [
       "         sum_amount   mean_amount    min_amount    max_amount    num_debits  \\\n",
       "count  1.188000e+04  1.188000e+04  1.188000e+04  1.188000e+04  11880.000000   \n",
       "mean   1.096729e+08  2.249041e+07  3.839886e+06  6.690132e+07      3.650253   \n",
       "std    2.165601e+09  4.346825e+08  1.293754e+08  1.335662e+09      1.372152   \n",
       "min    0.000000e+00  0.000000e+00  0.000000e+00  0.000000e+00      0.000000   \n",
       "25%    1.639600e+05  3.801500e+04  5.000000e+03  7.799725e+04      3.000000   \n",
       "50%    5.000000e+05  1.120224e+05  1.640600e+04  2.000000e+05      4.000000   \n",
       "75%    1.708778e+06  3.927890e+05  1.000000e+05  1.000000e+06      5.000000   \n",
       "max    1.760013e+11  3.520027e+10  1.327980e+10  8.800000e+10      5.000000   \n",
       "\n",
       "        num_credits        target  \n",
       "count  11880.000000  11880.000000  \n",
       "mean       0.919697      0.428704  \n",
       "std        1.046418      0.494912  \n",
       "min        0.000000      0.000000  \n",
       "25%        0.000000      0.000000  \n",
       "50%        1.000000      0.000000  \n",
       "75%        1.000000      1.000000  \n",
       "max        5.000000      1.000000  "
      ]
     },
     "execution_count": 110,
     "metadata": {},
     "output_type": "execute_result"
    }
   ],
   "source": [
    "df.describe()"
   ]
  },
  {
   "cell_type": "code",
   "execution_count": 111,
   "metadata": {},
   "outputs": [
    {
     "data": {
      "text/plain": [
       "target\n",
       "0.0    6787\n",
       "1.0    5093\n",
       "Name: count, dtype: int64"
      ]
     },
     "execution_count": 111,
     "metadata": {},
     "output_type": "execute_result"
    }
   ],
   "source": [
    "df[\"target\"].value_counts()"
   ]
  },
  {
   "cell_type": "code",
   "execution_count": 113,
   "metadata": {},
   "outputs": [],
   "source": [
    "df[\"step\"] = df[\"step\"].apply(pd.to_datetime)\n"
   ]
  },
  {
   "cell_type": "code",
   "execution_count": 116,
   "metadata": {},
   "outputs": [
    {
     "data": {
      "text/html": [
       "<div>\n",
       "<style scoped>\n",
       "    .dataframe tbody tr th:only-of-type {\n",
       "        vertical-align: middle;\n",
       "    }\n",
       "\n",
       "    .dataframe tbody tr th {\n",
       "        vertical-align: top;\n",
       "    }\n",
       "\n",
       "    .dataframe thead th {\n",
       "        text-align: right;\n",
       "    }\n",
       "</style>\n",
       "<table border=\"1\" class=\"dataframe\">\n",
       "  <thead>\n",
       "    <tr style=\"text-align: right;\">\n",
       "      <th></th>\n",
       "      <th>account</th>\n",
       "      <th>step</th>\n",
       "      <th>sum_amount</th>\n",
       "      <th>mean_amount</th>\n",
       "      <th>min_amount</th>\n",
       "      <th>max_amount</th>\n",
       "      <th>num_debits</th>\n",
       "      <th>num_credits</th>\n",
       "      <th>target</th>\n",
       "    </tr>\n",
       "  </thead>\n",
       "  <tbody>\n",
       "    <tr>\n",
       "      <th>account</th>\n",
       "      <td>1.000000</td>\n",
       "      <td>-0.189302</td>\n",
       "      <td>0.015922</td>\n",
       "      <td>0.017266</td>\n",
       "      <td>0.023737</td>\n",
       "      <td>0.010077</td>\n",
       "      <td>-0.095689</td>\n",
       "      <td>0.038991</td>\n",
       "      <td>0.712715</td>\n",
       "    </tr>\n",
       "    <tr>\n",
       "      <th>step</th>\n",
       "      <td>-0.189302</td>\n",
       "      <td>1.000000</td>\n",
       "      <td>-0.142054</td>\n",
       "      <td>-0.142488</td>\n",
       "      <td>-0.072280</td>\n",
       "      <td>-0.128394</td>\n",
       "      <td>0.012370</td>\n",
       "      <td>-0.013296</td>\n",
       "      <td>-0.191912</td>\n",
       "    </tr>\n",
       "    <tr>\n",
       "      <th>sum_amount</th>\n",
       "      <td>0.015922</td>\n",
       "      <td>-0.142054</td>\n",
       "      <td>1.000000</td>\n",
       "      <td>0.997648</td>\n",
       "      <td>0.323232</td>\n",
       "      <td>0.923302</td>\n",
       "      <td>-0.002833</td>\n",
       "      <td>0.022579</td>\n",
       "      <td>0.014106</td>\n",
       "    </tr>\n",
       "    <tr>\n",
       "      <th>mean_amount</th>\n",
       "      <td>0.017266</td>\n",
       "      <td>-0.142488</td>\n",
       "      <td>0.997648</td>\n",
       "      <td>1.000000</td>\n",
       "      <td>0.341745</td>\n",
       "      <td>0.921939</td>\n",
       "      <td>-0.005618</td>\n",
       "      <td>0.022522</td>\n",
       "      <td>0.014839</td>\n",
       "    </tr>\n",
       "    <tr>\n",
       "      <th>min_amount</th>\n",
       "      <td>0.023737</td>\n",
       "      <td>-0.072280</td>\n",
       "      <td>0.323232</td>\n",
       "      <td>0.341745</td>\n",
       "      <td>1.000000</td>\n",
       "      <td>0.126325</td>\n",
       "      <td>-0.008710</td>\n",
       "      <td>0.006547</td>\n",
       "      <td>0.007513</td>\n",
       "    </tr>\n",
       "    <tr>\n",
       "      <th>max_amount</th>\n",
       "      <td>0.010077</td>\n",
       "      <td>-0.128394</td>\n",
       "      <td>0.923302</td>\n",
       "      <td>0.921939</td>\n",
       "      <td>0.126325</td>\n",
       "      <td>1.000000</td>\n",
       "      <td>0.001231</td>\n",
       "      <td>0.016517</td>\n",
       "      <td>0.009752</td>\n",
       "    </tr>\n",
       "    <tr>\n",
       "      <th>num_debits</th>\n",
       "      <td>-0.095689</td>\n",
       "      <td>0.012370</td>\n",
       "      <td>-0.002833</td>\n",
       "      <td>-0.005618</td>\n",
       "      <td>-0.008710</td>\n",
       "      <td>0.001231</td>\n",
       "      <td>1.000000</td>\n",
       "      <td>-0.648358</td>\n",
       "      <td>-0.152937</td>\n",
       "    </tr>\n",
       "    <tr>\n",
       "      <th>num_credits</th>\n",
       "      <td>0.038991</td>\n",
       "      <td>-0.013296</td>\n",
       "      <td>0.022579</td>\n",
       "      <td>0.022522</td>\n",
       "      <td>0.006547</td>\n",
       "      <td>0.016517</td>\n",
       "      <td>-0.648358</td>\n",
       "      <td>1.000000</td>\n",
       "      <td>0.084848</td>\n",
       "    </tr>\n",
       "    <tr>\n",
       "      <th>target</th>\n",
       "      <td>0.712715</td>\n",
       "      <td>-0.191912</td>\n",
       "      <td>0.014106</td>\n",
       "      <td>0.014839</td>\n",
       "      <td>0.007513</td>\n",
       "      <td>0.009752</td>\n",
       "      <td>-0.152937</td>\n",
       "      <td>0.084848</td>\n",
       "      <td>1.000000</td>\n",
       "    </tr>\n",
       "  </tbody>\n",
       "</table>\n",
       "</div>"
      ],
      "text/plain": [
       "              account      step  sum_amount  mean_amount  min_amount  \\\n",
       "account      1.000000 -0.189302    0.015922     0.017266    0.023737   \n",
       "step        -0.189302  1.000000   -0.142054    -0.142488   -0.072280   \n",
       "sum_amount   0.015922 -0.142054    1.000000     0.997648    0.323232   \n",
       "mean_amount  0.017266 -0.142488    0.997648     1.000000    0.341745   \n",
       "min_amount   0.023737 -0.072280    0.323232     0.341745    1.000000   \n",
       "max_amount   0.010077 -0.128394    0.923302     0.921939    0.126325   \n",
       "num_debits  -0.095689  0.012370   -0.002833    -0.005618   -0.008710   \n",
       "num_credits  0.038991 -0.013296    0.022579     0.022522    0.006547   \n",
       "target       0.712715 -0.191912    0.014106     0.014839    0.007513   \n",
       "\n",
       "             max_amount  num_debits  num_credits    target  \n",
       "account        0.010077   -0.095689     0.038991  0.712715  \n",
       "step          -0.128394    0.012370    -0.013296 -0.191912  \n",
       "sum_amount     0.923302   -0.002833     0.022579  0.014106  \n",
       "mean_amount    0.921939   -0.005618     0.022522  0.014839  \n",
       "min_amount     0.126325   -0.008710     0.006547  0.007513  \n",
       "max_amount     1.000000    0.001231     0.016517  0.009752  \n",
       "num_debits     0.001231    1.000000    -0.648358 -0.152937  \n",
       "num_credits    0.016517   -0.648358     1.000000  0.084848  \n",
       "target         0.009752   -0.152937     0.084848  1.000000  "
      ]
     },
     "execution_count": 116,
     "metadata": {},
     "output_type": "execute_result"
    }
   ],
   "source": [
    "df.corr()"
   ]
  },
  {
   "cell_type": "code",
   "execution_count": null,
   "metadata": {},
   "outputs": [],
   "source": []
  }
 ],
 "metadata": {
  "kernelspec": {
   "display_name": "Python 3",
   "language": "python",
   "name": "python3"
  },
  "language_info": {
   "codemirror_mode": {
    "name": "ipython",
    "version": 3
   },
   "file_extension": ".py",
   "mimetype": "text/x-python",
   "name": "python",
   "nbconvert_exporter": "python",
   "pygments_lexer": "ipython3",
   "version": "3.12.3"
  }
 },
 "nbformat": 4,
 "nbformat_minor": 2
}
